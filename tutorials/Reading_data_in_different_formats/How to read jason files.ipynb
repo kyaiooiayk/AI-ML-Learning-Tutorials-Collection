{
 "cells": [
  {
   "cell_type": "markdown",
   "id": "dadebfe1",
   "metadata": {
    "toc": true
   },
   "source": [
    "<h1>Table of Contents<span class=\"tocSkip\"></span></h1>\n",
    "<div class=\"toc\"><ul class=\"toc-item\"><li><span><a href=\"#Introduction\" data-toc-modified-id=\"Introduction-1\"><span class=\"toc-item-num\">1&nbsp;&nbsp;</span>Introduction</a></span></li><li><span><a href=\"#Difference-btw-jason-and-python-dictionary\" data-toc-modified-id=\"Difference-btw-jason-and-python-dictionary-2\"><span class=\"toc-item-num\">2&nbsp;&nbsp;</span>Difference btw jason and python dictionary</a></span></li><li><span><a href=\"#Imports\" data-toc-modified-id=\"Imports-3\"><span class=\"toc-item-num\">3&nbsp;&nbsp;</span>Imports</a></span></li><li><span><a href=\"#Read-in-file\" data-toc-modified-id=\"Read-in-file-4\"><span class=\"toc-item-num\">4&nbsp;&nbsp;</span>Read-in file</a></span></li><li><span><a href=\"#References\" data-toc-modified-id=\"References-5\"><span class=\"toc-item-num\">5&nbsp;&nbsp;</span>References</a></span></li></ul></div>"
   ]
  },
  {
   "cell_type": "markdown",
   "id": "84b00ec3",
   "metadata": {},
   "source": [
    "# Introduction\n",
    "<hr style = \"border:2px solid black\" ></hr>"
   ]
  },
  {
   "cell_type": "markdown",
   "id": "a4ed8b64",
   "metadata": {},
   "source": [
    "<div class=\"alert alert-warning\">\n",
    "<font color=black>\n",
    "\n",
    "**What?** How to read an JASON file\n",
    "\n",
    "</font>\n",
    "</div>"
   ]
  },
  {
   "cell_type": "markdown",
   "id": "3bc0aa21",
   "metadata": {},
   "source": [
    "# Difference btw jason and python dictionary\n",
    "<hr style = \"border:2px solid black\" ></hr>"
   ]
  },
  {
   "cell_type": "markdown",
   "id": "3261120b",
   "metadata": {},
   "source": [
    "<div class=\"alert alert-info\">\n",
    "<font color=black>\n",
    "\n",
    "- JSON is a file format that allows the transmission of data between systems or subsystems. Although JSON was originally invented for use by Javascript (JSON = JavaScript Object Notation), the JSON file format is language agnostic.\n",
    "\n",
    "- JSON files support a number of data types which includes a dictionary - that is a data type that supports a set of key, value pairs. Since the JSON file exists as a text file, The ability to find a key in the JSON dictionary must have a time complexity of O(n), since the only option is to do a linear search.\n",
    "\n",
    "- Using the Python language, The JSON dictionary format can be internalized in memory as a Python dictionary, and now finding a key has a time complexity of O(1) - since the Python dictionary uses hash values to make searches efficient.\n",
    "\n",
    "- One way to think about this is that a Python dictionary is a data structure in memory which can store key, value pairs, and the JSON dictionary is a method to transfer those Python dictionaries to other subsystems with a few conditions :\n",
    "    - JSON only supports strings as keys - Python supports any hashable objects as keys (including tuples, frozensets, custom classes etc)\n",
    "    - JSON values can only be of a valid JSON type (list, dictionary, string, integer, float, boolean, Null) - Python values can be anything that can be constructed in Python.\n",
    "\n",
    "</font>\n",
    "</div>"
   ]
  },
  {
   "cell_type": "markdown",
   "id": "4c4859b1",
   "metadata": {},
   "source": [
    "# Imports\n",
    "<hr style = \"border:2px solid black\" ></hr>"
   ]
  },
  {
   "cell_type": "code",
   "execution_count": 1,
   "id": "beadbfd4",
   "metadata": {
    "ExecuteTime": {
     "end_time": "2022-09-08T16:19:15.784910Z",
     "start_time": "2022-09-08T16:19:15.781752Z"
    }
   },
   "outputs": [],
   "source": [
    "import json"
   ]
  },
  {
   "cell_type": "markdown",
   "id": "219fe8b6",
   "metadata": {},
   "source": [
    "# Read-in file\n",
    "<hr style = \"border:2px solid black\" ></hr>"
   ]
  },
  {
   "cell_type": "code",
   "execution_count": 2,
   "id": "6159fab7",
   "metadata": {
    "ExecuteTime": {
     "end_time": "2022-09-08T16:19:15.912916Z",
     "start_time": "2022-09-08T16:19:15.787585Z"
    }
   },
   "outputs": [
    {
     "name": "stdout",
     "output_type": "stream",
     "text": [
      "\u001b[34mGitHub_MD_rendering\u001b[m\u001b[m           How to read xml files.ipynb\r\n",
      "How to read csv files.ipynb   example.json\r\n",
      "How to read jason files.ipynb example.xml\r\n"
     ]
    }
   ],
   "source": [
    "!ls"
   ]
  },
  {
   "cell_type": "code",
   "execution_count": 3,
   "id": "2b918417",
   "metadata": {
    "ExecuteTime": {
     "end_time": "2022-09-08T16:19:15.920569Z",
     "start_time": "2022-09-08T16:19:15.916881Z"
    }
   },
   "outputs": [],
   "source": [
    "with open(\"./example.json\") as json_file:\n",
    "    json_data = json.load(json_file)"
   ]
  },
  {
   "cell_type": "code",
   "execution_count": 4,
   "id": "12185c69",
   "metadata": {
    "ExecuteTime": {
     "end_time": "2022-09-08T16:19:15.933654Z",
     "start_time": "2022-09-08T16:19:15.922732Z"
    }
   },
   "outputs": [
    {
     "data": {
      "text/plain": [
       "{'a': [1, 3, 'asdf', True], 'b': {'Hello': 'world'}}"
      ]
     },
     "execution_count": 4,
     "metadata": {},
     "output_type": "execute_result"
    }
   ],
   "source": [
    "json_data"
   ]
  },
  {
   "cell_type": "code",
   "execution_count": 5,
   "id": "6e45a538",
   "metadata": {
    "ExecuteTime": {
     "end_time": "2022-09-08T16:19:15.939687Z",
     "start_time": "2022-09-08T16:19:15.935902Z"
    }
   },
   "outputs": [
    {
     "data": {
      "text/plain": [
       "dict"
      ]
     },
     "execution_count": 5,
     "metadata": {},
     "output_type": "execute_result"
    }
   ],
   "source": [
    "type(json_data)"
   ]
  },
  {
   "cell_type": "code",
   "execution_count": 6,
   "id": "c843a6da",
   "metadata": {
    "ExecuteTime": {
     "end_time": "2022-09-08T16:19:15.946384Z",
     "start_time": "2022-09-08T16:19:15.941934Z"
    }
   },
   "outputs": [
    {
     "data": {
      "text/plain": [
       "[1, 3, 'asdf', True]"
      ]
     },
     "execution_count": 6,
     "metadata": {},
     "output_type": "execute_result"
    }
   ],
   "source": [
    "json_data[\"a\"]"
   ]
  },
  {
   "cell_type": "code",
   "execution_count": 7,
   "id": "c6c43332",
   "metadata": {
    "ExecuteTime": {
     "end_time": "2022-09-08T16:19:15.952805Z",
     "start_time": "2022-09-08T16:19:15.948394Z"
    },
    "scrolled": true
   },
   "outputs": [
    {
     "data": {
      "text/plain": [
       "['__class__',\n",
       " '__class_getitem__',\n",
       " '__contains__',\n",
       " '__delattr__',\n",
       " '__delitem__',\n",
       " '__dir__',\n",
       " '__doc__',\n",
       " '__eq__',\n",
       " '__format__',\n",
       " '__ge__',\n",
       " '__getattribute__',\n",
       " '__getitem__',\n",
       " '__gt__',\n",
       " '__hash__',\n",
       " '__init__',\n",
       " '__init_subclass__',\n",
       " '__ior__',\n",
       " '__iter__',\n",
       " '__le__',\n",
       " '__len__',\n",
       " '__lt__',\n",
       " '__ne__',\n",
       " '__new__',\n",
       " '__or__',\n",
       " '__reduce__',\n",
       " '__reduce_ex__',\n",
       " '__repr__',\n",
       " '__reversed__',\n",
       " '__ror__',\n",
       " '__setattr__',\n",
       " '__setitem__',\n",
       " '__sizeof__',\n",
       " '__str__',\n",
       " '__subclasshook__',\n",
       " 'clear',\n",
       " 'copy',\n",
       " 'fromkeys',\n",
       " 'get',\n",
       " 'items',\n",
       " 'keys',\n",
       " 'pop',\n",
       " 'popitem',\n",
       " 'setdefault',\n",
       " 'update',\n",
       " 'values']"
      ]
     },
     "execution_count": 7,
     "metadata": {},
     "output_type": "execute_result"
    }
   ],
   "source": [
    "dir(json_data)"
   ]
  },
  {
   "cell_type": "code",
   "execution_count": 9,
   "id": "ac3a0515",
   "metadata": {
    "ExecuteTime": {
     "end_time": "2022-09-08T16:19:53.259242Z",
     "start_time": "2022-09-08T16:19:53.255431Z"
    }
   },
   "outputs": [
    {
     "data": {
      "text/plain": [
       "dict_values([[1, 3, 'asdf', True], {'Hello': 'world'}])"
      ]
     },
     "execution_count": 9,
     "metadata": {},
     "output_type": "execute_result"
    }
   ],
   "source": [
    "json_data.values()"
   ]
  },
  {
   "cell_type": "code",
   "execution_count": 13,
   "id": "5a9cc0e8",
   "metadata": {
    "ExecuteTime": {
     "end_time": "2022-09-08T16:20:22.254702Z",
     "start_time": "2022-09-08T16:20:22.250782Z"
    }
   },
   "outputs": [
    {
     "data": {
      "text/plain": [
       "dict_items([('a', [1, 3, 'asdf', True]), ('b', {'Hello': 'world'})])"
      ]
     },
     "execution_count": 13,
     "metadata": {},
     "output_type": "execute_result"
    }
   ],
   "source": [
    "json_data.items()"
   ]
  },
  {
   "cell_type": "code",
   "execution_count": 14,
   "id": "a037a819",
   "metadata": {
    "ExecuteTime": {
     "end_time": "2022-09-08T16:21:06.880845Z",
     "start_time": "2022-09-08T16:21:06.876668Z"
    },
    "scrolled": true
   },
   "outputs": [
    {
     "data": {
      "text/plain": [
       "['JSONDecodeError',\n",
       " 'JSONDecoder',\n",
       " 'JSONEncoder',\n",
       " '__all__',\n",
       " '__author__',\n",
       " '__builtins__',\n",
       " '__cached__',\n",
       " '__doc__',\n",
       " '__file__',\n",
       " '__loader__',\n",
       " '__name__',\n",
       " '__package__',\n",
       " '__path__',\n",
       " '__spec__',\n",
       " '__version__',\n",
       " '_default_decoder',\n",
       " '_default_encoder',\n",
       " 'codecs',\n",
       " 'decoder',\n",
       " 'detect_encoding',\n",
       " 'dump',\n",
       " 'dumps',\n",
       " 'encoder',\n",
       " 'load',\n",
       " 'loads',\n",
       " 'scanner']"
      ]
     },
     "execution_count": 14,
     "metadata": {},
     "output_type": "execute_result"
    }
   ],
   "source": [
    "dir(json)"
   ]
  },
  {
   "cell_type": "markdown",
   "id": "d7dd6171",
   "metadata": {},
   "source": [
    "# References\n",
    "<hr style = \"border:2px solid black\" ></hr>"
   ]
  },
  {
   "cell_type": "markdown",
   "id": "3a9c1a6d",
   "metadata": {},
   "source": [
    "<div class=\"alert alert-warning\">\n",
    "<font color=black>\n",
    "\n",
    "- [Difference btw jason and python dictionary](https://www.quora.com/What-is-the-difference-between-JSON-and-a-dictionary)\n",
    "- [How to read a `json` file](https://stackoverflow.com/questions/20199126/reading-json-from-a-file)\n",
    "\n",
    "</font>\n",
    "</div>"
   ]
  },
  {
   "cell_type": "code",
   "execution_count": null,
   "id": "31ce33b1",
   "metadata": {},
   "outputs": [],
   "source": []
  }
 ],
 "metadata": {
  "kernelspec": {
   "display_name": "trainingAI",
   "language": "python",
   "name": "trainingai"
  },
  "language_info": {
   "codemirror_mode": {
    "name": "ipython",
    "version": 3
   },
   "file_extension": ".py",
   "mimetype": "text/x-python",
   "name": "python",
   "nbconvert_exporter": "python",
   "pygments_lexer": "ipython3",
   "version": "3.9.7"
  },
  "toc": {
   "base_numbering": 1,
   "nav_menu": {},
   "number_sections": true,
   "sideBar": true,
   "skip_h1_title": false,
   "title_cell": "Table of Contents",
   "title_sidebar": "Contents",
   "toc_cell": true,
   "toc_position": {
    "height": "calc(100% - 180px)",
    "left": "10px",
    "top": "150px",
    "width": "209.35px"
   },
   "toc_section_display": true,
   "toc_window_display": true
  },
  "varInspector": {
   "cols": {
    "lenName": 16,
    "lenType": 16,
    "lenVar": 40
   },
   "kernels_config": {
    "python": {
     "delete_cmd_postfix": "",
     "delete_cmd_prefix": "del ",
     "library": "var_list.py",
     "varRefreshCmd": "print(var_dic_list())"
    },
    "r": {
     "delete_cmd_postfix": ") ",
     "delete_cmd_prefix": "rm(",
     "library": "var_list.r",
     "varRefreshCmd": "cat(var_dic_list()) "
    }
   },
   "types_to_exclude": [
    "module",
    "function",
    "builtin_function_or_method",
    "instance",
    "_Feature"
   ],
   "window_display": false
  }
 },
 "nbformat": 4,
 "nbformat_minor": 5
}
